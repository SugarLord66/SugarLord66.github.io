{
  "nbformat": 4,
  "nbformat_minor": 0,
  "metadata": {
    "colab": {
      "name": "「_ry_期末考2021_v01.ipynb」的副本",
      "provenance": [],
      "collapsed_sections": [],
      "include_colab_link": true
    },
    "kernelspec": {
      "name": "python3",
      "display_name": "Python 3"
    },
    "language_info": {
      "name": "python"
    }
  },
  "cells": [
    {
      "cell_type": "markdown",
      "metadata": {
        "id": "view-in-github",
        "colab_type": "text"
      },
      "source": [
        "<a href=\"https://colab.research.google.com/github/SugarLord66/SugarLord66.github.io/blob/main/%E3%80%8C_ry_%E6%9C%9F%E6%9C%AB%E8%80%832021_v01_ipynb%E3%80%8D.ipynb\" target=\"_parent\"><img src=\"https://colab.research.google.com/assets/colab-badge.svg\" alt=\"Open In Colab\"/></a>"
      ]
    },
    {
      "cell_type": "markdown",
      "metadata": {
        "id": "1l8i6ab_FTEj"
      },
      "source": [
        "# 期末考題 2021\n",
        "## 長庚大學 資工系 @ 2021/06/22\n",
        "- by 呂仁園老師\n",
        "\n",
        "----\n",
        "# 1. \n",
        "考試時間 2021/06/22， 10:10~ 12:30，\n",
        "\n",
        "# 2. \n",
        "嚴禁同學間互相抄襲，若有抄襲情形，【抄襲者】與【被抄襲者】皆為0分。請不要害別人，也保護自己不被別人害！\n",
        "\n",
        "# 3. \n",
        "答案 以 【pdf】 檔案 上傳 【Elearning】 之 \n",
        "【評量區】//【作業/報告】//【正式期末考專區】\n",
        "\n",
        "# 4. \n",
        "pdf 應含所撰寫之程式(.ipynb) 之 Colab 或 Github 連結，可讓老師或助教直接點擊該連結即可觀看程式。\n",
        "\n",
        "\n",
        "# 5. \n",
        "答題須寫推論或計算過程，若有Python程式碼，應完全列出指令。\n",
        "\n",
        "# 6.\n",
        "題目共 20 小題，每題 5%"
      ]
    },
    {
      "cell_type": "markdown",
      "metadata": {
        "id": "NHD5j7tnM5CD"
      },
      "source": [
        "#[Q1]\n",
        "\n",
        "$n$ 個獨立且分布相同的隨機變數 \n",
        "$\n",
        "X_1,\\ X_2, …. X_n\n",
        "$\n",
        "它們有共同的\n",
        "\n",
        "期望值: $E(X_i)=μ$, \n",
        "\n",
        "標準差: $Std(X_i)=σ$, \n",
        "\n",
        "----\n",
        "$\\bar{X}$ , $S^2$ \n",
        "\n",
        "分別代表它們的【樣本平均數】以及【樣本變異數】。數學公式定義如下：\n",
        "\n",
        "$\n",
        "\\bar{X}=\\frac{1}{n}\\sum_{i=1}^{n}X_i\n",
        "\\\\\n",
        "S^2=\\frac{1}{n-1}\\sum_{i=1}^{n}\\left(X_i-\\bar{X}\\right)^2\n",
        "$\n",
        "\n",
        "----\n",
        "令 統計量 $T$ 代表 樣本平均$\\bar{X}$ 與母體平均$μ$ 之間的【正規距離】(scaled distance)，數學公式定義如下：\n",
        "\n",
        "$\n",
        "T=\\frac{\\ \\bar{X}-\\mu}{S/\\sqrt{n}}\n",
        "$\n",
        "\n",
        "----\n",
        "\n",
        "\n",
        "令 n = 10,  μ= 5,  σ=2，\n",
        "請回答以下問題\n",
        "\n",
        "1. \n",
        "$\n",
        "\tE\\left(\\bar{X}\\right)=\\ ?\n",
        "$\n",
        "\n",
        "1. \n",
        "$\n",
        "\tE\\left(S^2\\right)=\\ ?\n",
        "$\n",
        "\n",
        "1. \n",
        "$\n",
        "\tE\\left(T\\right)=\\ ?\n",
        "$\n",
        "\n",
        "1. \n",
        "$\n",
        "\tVar\\left(\\bar{X}\\right)=\\ ?\n",
        "$\n",
        "\n",
        "1. \n",
        "$\n",
        "\tVar\\left(S^2\\right)=\\ ?\n",
        "$\n",
        "\n",
        "1. \n",
        "$\n",
        "\tVar\\left(T\\right)=\\ ?\n",
        "$\n",
        "\n",
        "1. \n",
        "$\n",
        "\t\\bar{X} 的 機率密度函數  f_{\\bar{X}}\\left(x\\right)=?\n",
        "$\n",
        "\n",
        "1. \n",
        "$\n",
        "\tS^2 的機率密度函數 f_{S^2}\\left(q\\right)=?\n",
        "$\n",
        "\n",
        "1. \n",
        "$\n",
        "\tT 的 機率密度函數  f_T\\left(t\\right)=?\n",
        "$\n",
        "\n",
        "1. \n",
        "$\n",
        "\tP\\left(4\\le\\bar{X}\\le6\\right)=?\n",
        "$\n",
        "\n",
        "1. \n",
        "$\n",
        "\tP\\left(3\\le S^2\\le5\\right)=?\n",
        "$\n",
        "\n",
        "1. \n",
        "$\n",
        "\tP\\left(-1\\le T\\le1\\right)=?\n",
        "$\n",
        "\n",
        "1. \n",
        "$\n",
        "\t若 P\\left( x_1\\le\\bar{X}\\le x_2\\right)=95\\%，那麼(x_1, x_2)=?\n",
        "$\n",
        "\n",
        "1. \n",
        "$\n",
        "\t若 P\\left(q_1\\le S^2\\le\\ q_2\\right)=95\\%，那麼 (q_1, q_2) = ?\n",
        "$\n",
        "\n",
        "1. \n",
        "$\n",
        "\t若 P\\left(t_1\\le T\\le t_2\\right)= 95\\%，那麼 (t_1, t_2)=?\n",
        "$\n",
        "\n",
        "\n"
      ]
    },
    {
      "cell_type": "markdown",
      "metadata": {
        "id": "ret3QoyQM4FM"
      },
      "source": [
        "首先，引入必要的模組"
      ]
    },
    {
      "cell_type": "code",
      "metadata": {
        "id": "xMK4shCLFqHb"
      },
      "source": [
        "import numpy      as np\n",
        "import scipy.special  as sp\n",
        "import scipy.stats   as st\n",
        "import pandas      as pd\n",
        "\n",
        "\n",
        "n= 10 \n",
        "μ= 5\n",
        "σ= 2\n",
        "  "
      ],
      "execution_count": null,
      "outputs": []
    },
    {
      "cell_type": "markdown",
      "metadata": {
        "id": "0IBnpscPHcPR"
      },
      "source": [
        "1. \n",
        "$\n",
        "\tE\\left(\\bar{X}\\right)=\\ ?\n",
        "$\n"
      ]
    },
    {
      "cell_type": "code",
      "metadata": {
        "id": "xqJSMaHkIFad",
        "colab": {
          "base_uri": "https://localhost:8080/"
        },
        "outputId": "d477213c-5167-4457-d772-15324b704fce"
      },
      "source": [
        "#(1)根據x的樣本平均數是x\\bar \n",
        "#x\\bar的期望值就是μ\n",
        "#樣本平均數對於母體平均數是不偏的\n",
        "print(μ)"
      ],
      "execution_count": null,
      "outputs": [
        {
          "output_type": "stream",
          "text": [
            "5\n"
          ],
          "name": "stdout"
        }
      ]
    },
    {
      "cell_type": "markdown",
      "metadata": {
        "id": "sOdBob9eHfwJ"
      },
      "source": [
        "\n",
        "2. \n",
        "$\n",
        "\tE\\left(S^2\\right)=\\ ?\n",
        "$\n"
      ]
    },
    {
      "cell_type": "code",
      "metadata": {
        "id": "SKLdfF4VIPLJ",
        "colab": {
          "base_uri": "https://localhost:8080/"
        },
        "outputId": "6460125f-16a7-46da-ddc3-cb1e7830bae4"
      },
      "source": [
        "#(2)E(S^2)=(1/n-1)*(n*σ^2 - n*σ^2/n)=σ^2\n",
        "print(σ*σ)"
      ],
      "execution_count": null,
      "outputs": [
        {
          "output_type": "stream",
          "text": [
            "4\n"
          ],
          "name": "stdout"
        }
      ]
    },
    {
      "cell_type": "markdown",
      "metadata": {
        "id": "jEMhYdIJHiXS"
      },
      "source": [
        "\n",
        "3. \n",
        "$\n",
        "\tE\\left(T\\right)=\\ ?\n",
        "$\n"
      ]
    },
    {
      "cell_type": "code",
      "metadata": {
        "id": "AdOA_04RIQpy",
        "colab": {
          "base_uri": "https://localhost:8080/"
        },
        "outputId": "0b0a4b4d-aa6d-4c1e-9993-5aaa1b721e79"
      },
      "source": [
        "#(3)\n",
        "# T =(X\\bar-μ)/(S/sqrt(n))\n",
        "#E(T)=(μ-μ)/(σ/sqrt(10))=0\n",
        "0\n"
      ],
      "execution_count": null,
      "outputs": [
        {
          "output_type": "execute_result",
          "data": {
            "text/plain": [
              "0"
            ]
          },
          "metadata": {
            "tags": []
          },
          "execution_count": 73
        }
      ]
    },
    {
      "cell_type": "markdown",
      "metadata": {
        "id": "4Zd3Bn2tHnJR"
      },
      "source": [
        "\n",
        "4. \n",
        "$\n",
        "\tVar\\left(\\bar{X}\\right)=\\ ?\n",
        "$\n"
      ]
    },
    {
      "cell_type": "code",
      "metadata": {
        "id": "0Lz06ItVIRj6",
        "colab": {
          "base_uri": "https://localhost:8080/"
        },
        "outputId": "69329b59-1892-40f3-e9a0-26a97ace2db5"
      },
      "source": [
        "#(4)根據定理 var(x\\bar)=[(1/n)^2]*var(X1+X2+...+Xn)\n",
        "#       =(1/n)^2(σ^2+σ^2+σ^2+...+σ^2)\n",
        "#       =[(1/n)^2]*n*σ^2=σ^2/n\n",
        "print(σ*σ/n)"
      ],
      "execution_count": null,
      "outputs": [
        {
          "output_type": "stream",
          "text": [
            "0.4\n"
          ],
          "name": "stdout"
        }
      ]
    },
    {
      "cell_type": "markdown",
      "metadata": {
        "id": "dqB7nq1vHoih"
      },
      "source": [
        "\n",
        "5. \n",
        "$\n",
        "\tVar\\left(S^2\\right)=\\ ?\n",
        "$\n"
      ]
    },
    {
      "cell_type": "code",
      "metadata": {
        "id": "mA2XFMcqISsk",
        "colab": {
          "base_uri": "https://localhost:8080/"
        },
        "outputId": "a0f016db-f69d-47c3-eb7a-8bc2624e5184"
      },
      "source": [
        "#(5) 根據公式 Var(S^2)==(2σ^4)/(n-1)\n",
        "print((2*σ**4)/(n-1))"
      ],
      "execution_count": null,
      "outputs": [
        {
          "output_type": "stream",
          "text": [
            "3.5555555555555554\n"
          ],
          "name": "stdout"
        }
      ]
    },
    {
      "cell_type": "markdown",
      "metadata": {
        "id": "8WgBr2DMHpwS"
      },
      "source": [
        "\n",
        "6. \n",
        "$\n",
        "\tVar\\left(T\\right)=\\ ?\n",
        "$\n"
      ]
    },
    {
      "cell_type": "code",
      "metadata": {
        "id": "FldyobqHIThq",
        "colab": {
          "base_uri": "https://localhost:8080/"
        },
        "outputId": "e9955daa-447c-4db6-9590-bd5a3cea6f13"
      },
      "source": [
        "#(6)\n",
        "# n=10\n",
        "# (n-1)/((n-1)-2)\n",
        "9/7"
      ],
      "execution_count": null,
      "outputs": [
        {
          "output_type": "execute_result",
          "data": {
            "text/plain": [
              "1.2857142857142858"
            ]
          },
          "metadata": {
            "tags": []
          },
          "execution_count": 68
        }
      ]
    },
    {
      "cell_type": "markdown",
      "metadata": {
        "id": "DurEWYdyHq_p"
      },
      "source": [
        "\n",
        "7. \n",
        "$\n",
        "\t\\bar{X} 的 機率密度函數  f_{\\bar{X}}\\left(x\\right)=?\n",
        "$\n"
      ]
    },
    {
      "cell_type": "code",
      "metadata": {
        "id": "n_7Bj5SVIUlU"
      },
      "source": [
        "#(7)\n",
        "#f(x)=f(x) = {1 \\over \\sigma\\sqrt{2\\pi} }\\,e^{- {{(x-\\μ )^2 \\over 2\\sigma^2}}}\n",
        "#公式\n",
        "#PDF檔有貼圖片"
      ],
      "execution_count": null,
      "outputs": []
    },
    {
      "cell_type": "markdown",
      "metadata": {
        "id": "KOM9Sq3EHsOx"
      },
      "source": [
        "\n",
        "8. \n",
        "$\n",
        "\tS^2 的機率密度函數 f_{S^2}\\left(q\\right)=?\n",
        "$\n"
      ]
    },
    {
      "cell_type": "code",
      "metadata": {
        "id": "O-0Am5PyIVmd"
      },
      "source": [
        "#(8)\n"
      ],
      "execution_count": null,
      "outputs": []
    },
    {
      "cell_type": "markdown",
      "metadata": {
        "id": "GT3Ya54PHteJ"
      },
      "source": [
        "\n",
        "9. \n",
        "$\n",
        "\tT 的 機率密度函數  f_T\\left(t\\right)=?\n",
        "$\n"
      ]
    },
    {
      "cell_type": "code",
      "metadata": {
        "id": "9fkx-8cIIE10"
      },
      "source": [
        "#(9)\n",
        "#PDF檔有貼圖片\n"
      ],
      "execution_count": null,
      "outputs": []
    },
    {
      "cell_type": "markdown",
      "metadata": {
        "id": "HW8EfHSRHurd"
      },
      "source": [
        "\n",
        "10. \n",
        "$\n",
        "\tP\\left(4\\le\\bar{X}\\le6\\right)=?\n",
        "$\n"
      ]
    },
    {
      "cell_type": "code",
      "metadata": {
        "id": "f--b36SNIXmp",
        "colab": {
          "base_uri": "https://localhost:8080/"
        },
        "outputId": "25d29aca-debe-4634-dff0-d9869ab8c14a"
      },
      "source": [
        "#(10)\n",
        "import numpy      as np\n",
        "import scipy.special  as sp\n",
        "import scipy.stats   as st\n",
        "import pandas      as pd\n",
        "\n",
        "\n",
        "n= 10 \n",
        "μ= 5\n",
        "σ= 2\n",
        "a = st.norm.cdf(6,μ,σ/n**0.5)-st.norm.cdf(4,μ,σ/n**0.5)\n",
        "print (a)\n"
      ],
      "execution_count": 5,
      "outputs": [
        {
          "output_type": "stream",
          "text": [
            "0.8861537019933419\n"
          ],
          "name": "stdout"
        }
      ]
    },
    {
      "cell_type": "code",
      "metadata": {
        "id": "GVpl_qDyz11L"
      },
      "source": [
        ""
      ],
      "execution_count": null,
      "outputs": []
    },
    {
      "cell_type": "markdown",
      "metadata": {
        "id": "5CNXCGRiHvxN"
      },
      "source": [
        "\n",
        "11. \n",
        "$\n",
        "\tP\\left(3\\le S^2\\le5\\right)=?\n",
        "$\n"
      ]
    },
    {
      "cell_type": "code",
      "metadata": {
        "id": "JrqTTcALIY0a",
        "colab": {
          "base_uri": "https://localhost:8080/"
        },
        "outputId": "29177d98-1307-413a-ebc2-87640f0aa708"
      },
      "source": [
        "#(11)\n",
        "a=st.norm.cdf(x=(5-σ)/(σ/n*0.5))\n",
        "b=st.norm.cdf(x=(3-σ)/(σ/n*0.5))\n",
        "print(a-b)\n"
      ],
      "execution_count": null,
      "outputs": [
        {
          "output_type": "stream",
          "text": [
            "0.0\n"
          ],
          "name": "stdout"
        }
      ]
    },
    {
      "cell_type": "markdown",
      "metadata": {
        "id": "1dRf2CDMHw90"
      },
      "source": [
        "\n",
        "12. \n",
        "$\n",
        "\tP\\left(-1\\le T\\le1\\right)=?\n",
        "$\n"
      ]
    },
    {
      "cell_type": "code",
      "metadata": {
        "id": "PFxQFU9PIZop",
        "colab": {
          "base_uri": "https://localhost:8080/"
        },
        "outputId": "cc479eed-6b2d-47a3-a817-e9774b38d45b"
      },
      "source": [
        "#(12)\n",
        "n=10\n",
        "v=10-1\n",
        "a=st.t.cdf(1,df=v)-st.t.cdf(-1,df=v)\n",
        "a\n"
      ],
      "execution_count": null,
      "outputs": [
        {
          "output_type": "execute_result",
          "data": {
            "text/plain": [
              "0.6565636038620863"
            ]
          },
          "metadata": {
            "tags": []
          },
          "execution_count": 64
        }
      ]
    },
    {
      "cell_type": "markdown",
      "metadata": {
        "id": "GON6jLUMHyDy"
      },
      "source": [
        "\n",
        "13. \n",
        "$\n",
        "\t若 P\\left( x_1\\le\\bar{X}\\le x_2\\right)=95\\%，那麼(x_1, x_2)=?\n",
        "$\n"
      ]
    },
    {
      "cell_type": "code",
      "metadata": {
        "id": "LxIBvURrIaiy",
        "colab": {
          "base_uri": "https://localhost:8080/"
        },
        "outputId": "64dda6f0-14a5-4c9b-f990-776cdff19e14"
      },
      "source": [
        "#(13)\n",
        "st.norm.interval(0.95,μ,σ/n**.5)"
      ],
      "execution_count": null,
      "outputs": [
        {
          "output_type": "execute_result",
          "data": {
            "text/plain": [
              "(3.760409935390877, 6.239590064609123)"
            ]
          },
          "metadata": {
            "tags": []
          },
          "execution_count": 65
        }
      ]
    },
    {
      "cell_type": "markdown",
      "metadata": {
        "id": "c7VR0hk7HzRF"
      },
      "source": [
        "\n",
        "14. \n",
        "$\n",
        "\t若 P\\left(q_1\\le S^2\\le\\ q_2\\right)=95\\%，那麼 (q_1, q_2) = ?\n",
        "$\n"
      ]
    },
    {
      "cell_type": "code",
      "metadata": {
        "id": "EFlvxALjNEaA",
        "colab": {
          "base_uri": "https://localhost:8080/"
        },
        "outputId": "553290b2-f425-40c4-bd3b-9ff27319e478"
      },
      "source": [
        "#(14)\n",
        "st.norm.interval(0.95,4,σ/n**.5)"
      ],
      "execution_count": null,
      "outputs": [
        {
          "output_type": "execute_result",
          "data": {
            "text/plain": [
              "(2.760409935390877, 5.239590064609123)"
            ]
          },
          "metadata": {
            "tags": []
          },
          "execution_count": 80
        }
      ]
    },
    {
      "cell_type": "markdown",
      "metadata": {
        "id": "F8AtCF7nH0eC"
      },
      "source": [
        "\n",
        "15. \n",
        "$\n",
        "\t若 P\\left(t_1\\le T\\le t_2\\right)= 95\\%，那麼 (t_1, t_2)=?\n",
        "$"
      ]
    },
    {
      "cell_type": "code",
      "metadata": {
        "id": "33NBIpemHTJP",
        "colab": {
          "base_uri": "https://localhost:8080/"
        },
        "outputId": "0492dd2f-d28e-4db4-daa9-3bf2b87f9243"
      },
      "source": [
        "#(15)\n",
        "st.norm.interval(0.95,0,σ/n**.5)"
      ],
      "execution_count": null,
      "outputs": [
        {
          "output_type": "execute_result",
          "data": {
            "text/plain": [
              "(-1.2395900646091231, 1.2395900646091231)"
            ]
          },
          "metadata": {
            "tags": []
          },
          "execution_count": 81
        }
      ]
    },
    {
      "cell_type": "markdown",
      "metadata": {
        "id": "vKD93gF61SFS"
      },
      "source": [
        "#[Q2]\n",
        "\n",
        "某大學於某年做了學生身高資料普查，學生總數N為 10000人，全體學生身高平均數μ= 159.8cm，標準差σ = 9.9 cm，資料分布約略如下圖：(橫坐標為身高cm、縱坐標為學生人數)\n"
      ]
    },
    {
      "cell_type": "code",
      "metadata": {
        "id": "xWPelhY8FqpS",
        "colab": {
          "base_uri": "https://localhost:8080/",
          "height": 424
        },
        "outputId": "29831002-8c34-4e5b-ab64-fecd92e1997d"
      },
      "source": [
        "# 針對某大學全體學生做了一次身高普查，學生總數 N= 10000\n",
        "# 普查資料 存放在 X \n",
        "\n",
        "# 先以模擬方式製造一堆 (size= 10000) 符合此種分布的實驗數據\n",
        "\n",
        "np.random.seed(0)\n",
        "X= st.norm.rvs(size=10000, loc= 160, scale=10)\n",
        "\n",
        "# 畫出 分布圖，\n",
        "# 並觀察母體平均數 mu= E(X)=μ== 159.8, \n",
        "# 以及 標準差 sigma= Std(X)=σ== 9.9\n",
        "\n",
        "X= pd.Series(X)\n",
        "X.hist(bins= 100, grid=True)\n",
        "X.describe().round(1)\n"
      ],
      "execution_count": null,
      "outputs": [
        {
          "output_type": "execute_result",
          "data": {
            "text/plain": [
              "count    10000.0\n",
              "mean       159.8\n",
              "std          9.9\n",
              "min        122.6\n",
              "25%        153.1\n",
              "50%        159.7\n",
              "75%        166.5\n",
              "max        198.0\n",
              "dtype: float64"
            ]
          },
          "metadata": {
            "tags": []
          },
          "execution_count": 17
        },
        {
          "output_type": "display_data",
          "data": {
            "image/png": "[encoded data removed]",
            "text/plain": [
              "<Figure size 432x288 with 1 Axes>"
            ]
          },
          "metadata": {
            "tags": [],
            "needs_background": "light"
          }
        }
      ]
    },
    {
      "cell_type": "markdown",
      "metadata": {
        "id": "ZsMVmx6H12Ss"
      },
      "source": [
        "某同學自己在好朋友之間 (10人) 做了一個調查，得到結果如下：\n",
        "\n"
      ]
    },
    {
      "cell_type": "code",
      "metadata": {
        "id": "9zfLpBwhFqwy",
        "colab": {
          "base_uri": "https://localhost:8080/",
          "height": 78
        },
        "outputId": "7d04d1b9-b7b8-49f8-9344-f4e43e1ce070"
      },
      "source": [
        "# 某位本課程的學生作了一個小實驗，\n",
        "# 他隨機調查了 n=10 位同學 的身高資料\n",
        "np.random.seed(0)\n",
        "smpSize= 10\n",
        "smpX= X.sample(n= smpSize)\n",
        "smpX.round(1)\n",
        "aDF= pd.DataFrame(smpX,columns=['身高(cm)'])\n",
        "aDF.index.name='學號'\n",
        "aDF.T.round(1)\n"
      ],
      "execution_count": null,
      "outputs": [
        {
          "output_type": "execute_result",
          "data": {
            "text/html": [
              "<div>\n",
              "<style scoped>\n",
              "    .dataframe tbody tr th:only-of-type {\n",
              "        vertical-align: middle;\n",
              "    }\n",
              "\n",
              "    .dataframe tbody tr th {\n",
              "        vertical-align: top;\n",
              "    }\n",
              "\n",
              "    .dataframe thead th {\n",
              "        text-align: right;\n",
              "    }\n",
              "</style>\n",
              "<table border=\"1\" class=\"dataframe\">\n",
              "  <thead>\n",
              "    <tr style=\"text-align: right;\">\n",
              "      <th>學號</th>\n",
              "      <th>9394</th>\n",
              "      <th>898</th>\n",
              "      <th>2398</th>\n",
              "      <th>5906</th>\n",
              "      <th>2343</th>\n",
              "      <th>8225</th>\n",
              "      <th>5506</th>\n",
              "      <th>6451</th>\n",
              "      <th>2670</th>\n",
              "      <th>3497</th>\n",
              "    </tr>\n",
              "  </thead>\n",
              "  <tbody>\n",
              "    <tr>\n",
              "      <th>身高(cm)</th>\n",
              "      <td>147.6</td>\n",
              "      <td>185.9</td>\n",
              "      <td>154.0</td>\n",
              "      <td>147.2</td>\n",
              "      <td>168.6</td>\n",
              "      <td>146.8</td>\n",
              "      <td>162.6</td>\n",
              "      <td>164.1</td>\n",
              "      <td>152.2</td>\n",
              "      <td>171.8</td>\n",
              "    </tr>\n",
              "  </tbody>\n",
              "</table>\n",
              "</div>"
            ],
            "text/plain": [
              "學號       9394   898    2398   5906   2343   8225   5506   6451   2670   3497\n",
              "身高(cm)  147.6  185.9  154.0  147.2  168.6  146.8  162.6  164.1  152.2  171.8"
            ]
          },
          "metadata": {
            "tags": []
          },
          "execution_count": 18
        }
      ]
    },
    {
      "cell_type": "markdown",
      "metadata": {
        "id": "hBk7XHvx2Y14"
      },
      "source": [
        "根據以上調查結果(10人之身高)，此位同學自行運用機率統計課程所學，搭配 Python 之統計計算模組，可以估計出以下結論\n",
        "\n",
        "16. 學校全體同學之平均身高μ之估測值 $\\bar{X}$ =?\n",
        "17. 學校全體同學之身高之標準差$σ$之估測值 $S$ =?\n",
        "18. μ 的 95% 信心區間 $(μ_1, μ_2)$ = ？\n"
      ]
    },
    {
      "cell_type": "code",
      "metadata": {
        "id": "XN6DdGTm2Dj8",
        "colab": {
          "base_uri": "https://localhost:8080/"
        },
        "outputId": "2fbb28ea-2f3a-482a-ab58-5a5849d293f5"
      },
      "source": [
        "#(16)\n",
        "import statistics\n",
        "array =[147.6,185.9,154.0,147.2,168.6,146.8,162.6,164.1,152.2,171.8]\n",
        "mean = statistics.mean(array)\n",
        "print(mean)"
      ],
      "execution_count": null,
      "outputs": [
        {
          "output_type": "stream",
          "text": [
            "160.07999999999998\n"
          ],
          "name": "stdout"
        }
      ]
    },
    {
      "cell_type": "code",
      "metadata": {
        "id": "9FgNVEWm5Kzj",
        "colab": {
          "base_uri": "https://localhost:8080/"
        },
        "outputId": "768e9b98-779d-4894-8efe-68f433824ea4"
      },
      "source": [
        "#(17)\n",
        "arr =[147.6,185.9,154.0,147.2,168.6,146.8,162.6,164.1,152.2,171.8]\n",
        "print(statistics.stdev(arr))"
      ],
      "execution_count": null,
      "outputs": [
        {
          "output_type": "stream",
          "text": [
            "12.893564286108015\n"
          ],
          "name": "stdout"
        }
      ]
    },
    {
      "cell_type": "code",
      "metadata": {
        "id": "EfFLh7WG5K4L",
        "colab": {
          "base_uri": "https://localhost:8080/",
          "height": 376
        },
        "outputId": "d8065c18-059d-4e35-990c-677688f4d68e"
      },
      "source": [
        "#(18)\n",
        "#μ之95%CI=X±1.96(σ/√n)\n",
        "import statistics\n",
        "import math\n",
        "n=10\n",
        "μ2=mean+1.96*(statistics.stdev(arr)/math.sqrt(n))\n",
        "μ1=mean-1.96*(statistics.stdev(arr)/math.sqrt(n))\n",
        "print(μ1,μ2)\n",
        "#答案是152.088486 168.075139  我不知道為什麼有時候程式跑不出來"
      ],
      "execution_count": null,
      "outputs": [
        {
          "output_type": "error",
          "ename": "TypeError",
          "evalue": "ignored",
          "traceback": [
            "\u001b[0;31m---------------------------------------------------------------------------\u001b[0m",
            "\u001b[0;31mTypeError\u001b[0m                                 Traceback (most recent call last)",
            "\u001b[0;32m<ipython-input-52-686c83ff29da>\u001b[0m in \u001b[0;36m<module>\u001b[0;34m()\u001b[0m\n\u001b[1;32m      4\u001b[0m \u001b[0;31m# import math\u001b[0m\u001b[0;34m\u001b[0m\u001b[0;34m\u001b[0m\u001b[0;34m\u001b[0m\u001b[0m\n\u001b[1;32m      5\u001b[0m \u001b[0mn\u001b[0m\u001b[0;34m=\u001b[0m\u001b[0;36m10\u001b[0m\u001b[0;34m\u001b[0m\u001b[0;34m\u001b[0m\u001b[0m\n\u001b[0;32m----> 6\u001b[0;31m \u001b[0mμ2\u001b[0m\u001b[0;34m=\u001b[0m\u001b[0mmean\u001b[0m\u001b[0;34m+\u001b[0m\u001b[0;36m1.96\u001b[0m\u001b[0;34m*\u001b[0m\u001b[0;34m(\u001b[0m\u001b[0mstatistics\u001b[0m\u001b[0;34m.\u001b[0m\u001b[0mstdev\u001b[0m\u001b[0;34m(\u001b[0m\u001b[0marr\u001b[0m\u001b[0;34m)\u001b[0m\u001b[0;34m/\u001b[0m\u001b[0mmath\u001b[0m\u001b[0;34m.\u001b[0m\u001b[0msqrt\u001b[0m\u001b[0;34m(\u001b[0m\u001b[0mn\u001b[0m\u001b[0;34m)\u001b[0m\u001b[0;34m)\u001b[0m\u001b[0;34m\u001b[0m\u001b[0;34m\u001b[0m\u001b[0m\n\u001b[0m\u001b[1;32m      7\u001b[0m \u001b[0mμ1\u001b[0m\u001b[0;34m=\u001b[0m\u001b[0mmean\u001b[0m\u001b[0;34m-\u001b[0m\u001b[0;36m1.96\u001b[0m\u001b[0;34m*\u001b[0m\u001b[0;34m(\u001b[0m\u001b[0mstatistics\u001b[0m\u001b[0;34m.\u001b[0m\u001b[0mstdev\u001b[0m\u001b[0;34m(\u001b[0m\u001b[0marr\u001b[0m\u001b[0;34m)\u001b[0m\u001b[0;34m/\u001b[0m\u001b[0mmath\u001b[0m\u001b[0;34m.\u001b[0m\u001b[0msqrt\u001b[0m\u001b[0;34m(\u001b[0m\u001b[0mn\u001b[0m\u001b[0;34m)\u001b[0m\u001b[0;34m)\u001b[0m\u001b[0;34m\u001b[0m\u001b[0;34m\u001b[0m\u001b[0m\n\u001b[1;32m      8\u001b[0m \u001b[0mprint\u001b[0m\u001b[0;34m(\u001b[0m\u001b[0mμ1\u001b[0m\u001b[0;34m,\u001b[0m\u001b[0mμ2\u001b[0m\u001b[0;34m)\u001b[0m\u001b[0;34m\u001b[0m\u001b[0;34m\u001b[0m\u001b[0m\n",
            "\u001b[0;32m/usr/lib/python3.7/statistics.py\u001b[0m in \u001b[0;36mstdev\u001b[0;34m(data, xbar)\u001b[0m\n\u001b[1;32m    647\u001b[0m \u001b[0;34m\u001b[0m\u001b[0m\n\u001b[1;32m    648\u001b[0m     \"\"\"\n\u001b[0;32m--> 649\u001b[0;31m     \u001b[0mvar\u001b[0m \u001b[0;34m=\u001b[0m \u001b[0mvariance\u001b[0m\u001b[0;34m(\u001b[0m\u001b[0mdata\u001b[0m\u001b[0;34m,\u001b[0m \u001b[0mxbar\u001b[0m\u001b[0;34m)\u001b[0m\u001b[0;34m\u001b[0m\u001b[0;34m\u001b[0m\u001b[0m\n\u001b[0m\u001b[1;32m    650\u001b[0m     \u001b[0;32mtry\u001b[0m\u001b[0;34m:\u001b[0m\u001b[0;34m\u001b[0m\u001b[0;34m\u001b[0m\u001b[0m\n\u001b[1;32m    651\u001b[0m         \u001b[0;32mreturn\u001b[0m \u001b[0mvar\u001b[0m\u001b[0;34m.\u001b[0m\u001b[0msqrt\u001b[0m\u001b[0;34m(\u001b[0m\u001b[0;34m)\u001b[0m\u001b[0;34m\u001b[0m\u001b[0;34m\u001b[0m\u001b[0m\n",
            "\u001b[0;32m/usr/lib/python3.7/statistics.py\u001b[0m in \u001b[0;36mvariance\u001b[0;34m(data, xbar)\u001b[0m\n\u001b[1;32m    581\u001b[0m \u001b[0;34m\u001b[0m\u001b[0m\n\u001b[1;32m    582\u001b[0m     \"\"\"\n\u001b[0;32m--> 583\u001b[0;31m     \u001b[0;32mif\u001b[0m \u001b[0miter\u001b[0m\u001b[0;34m(\u001b[0m\u001b[0mdata\u001b[0m\u001b[0;34m)\u001b[0m \u001b[0;32mis\u001b[0m \u001b[0mdata\u001b[0m\u001b[0;34m:\u001b[0m\u001b[0;34m\u001b[0m\u001b[0;34m\u001b[0m\u001b[0m\n\u001b[0m\u001b[1;32m    584\u001b[0m         \u001b[0mdata\u001b[0m \u001b[0;34m=\u001b[0m \u001b[0mlist\u001b[0m\u001b[0;34m(\u001b[0m\u001b[0mdata\u001b[0m\u001b[0;34m)\u001b[0m\u001b[0;34m\u001b[0m\u001b[0;34m\u001b[0m\u001b[0m\n\u001b[1;32m    585\u001b[0m     \u001b[0mn\u001b[0m \u001b[0;34m=\u001b[0m \u001b[0mlen\u001b[0m\u001b[0;34m(\u001b[0m\u001b[0mdata\u001b[0m\u001b[0;34m)\u001b[0m\u001b[0;34m\u001b[0m\u001b[0;34m\u001b[0m\u001b[0m\n",
            "\u001b[0;31mTypeError\u001b[0m: 'float' object is not iterable"
          ]
        }
      ]
    },
    {
      "cell_type": "markdown",
      "metadata": {
        "id": "L3k5nEyj26su"
      },
      "source": [
        "後來，此位同學獲得更多的資料，達到20人之身高資料，新增之資料如下：\n"
      ]
    },
    {
      "cell_type": "code",
      "metadata": {
        "colab": {
          "base_uri": "https://localhost:8080/",
          "height": 78
        },
        "id": "X0sua8kw2Dn1",
        "outputId": "ff942031-3fd1-4a2b-a24e-e1272d6d2838"
      },
      "source": [
        "# 這位同學 在另一日額外取得 另 10 位 同學的身高資料\n",
        "# 他把這批資料併入原始資料，成為一份20人的資料，\n",
        "# 重新計算所有統計量並獲得信心區間的重新估測。\n",
        "#\n",
        "smpSize= 20\n",
        "np.random.seed(0) #000\n",
        "smpX= X.sample(n= smpSize)\n",
        "smpX.round(1)\n",
        "aDF= pd.DataFrame(smpX,columns=['身高(cm)'])\n",
        "aDF.index.name='學號'\n",
        "\n",
        "#aDF.round(1)\n",
        "#aDF.T.round(1)\n",
        "\n",
        "# 以下分2列來顯示以利觀看\n",
        "aDF.iloc[:10].T.round(1)"
      ],
      "execution_count": null,
      "outputs": [
        {
          "output_type": "execute_result",
          "data": {
            "text/html": [
              "<div>\n",
              "<style scoped>\n",
              "    .dataframe tbody tr th:only-of-type {\n",
              "        vertical-align: middle;\n",
              "    }\n",
              "\n",
              "    .dataframe tbody tr th {\n",
              "        vertical-align: top;\n",
              "    }\n",
              "\n",
              "    .dataframe thead th {\n",
              "        text-align: right;\n",
              "    }\n",
              "</style>\n",
              "<table border=\"1\" class=\"dataframe\">\n",
              "  <thead>\n",
              "    <tr style=\"text-align: right;\">\n",
              "      <th>學號</th>\n",
              "      <th>9394</th>\n",
              "      <th>898</th>\n",
              "      <th>2398</th>\n",
              "      <th>5906</th>\n",
              "      <th>2343</th>\n",
              "      <th>8225</th>\n",
              "      <th>5506</th>\n",
              "      <th>6451</th>\n",
              "      <th>2670</th>\n",
              "      <th>3497</th>\n",
              "    </tr>\n",
              "  </thead>\n",
              "  <tbody>\n",
              "    <tr>\n",
              "      <th>身高(cm)</th>\n",
              "      <td>147.6</td>\n",
              "      <td>185.9</td>\n",
              "      <td>154.0</td>\n",
              "      <td>147.2</td>\n",
              "      <td>168.6</td>\n",
              "      <td>146.8</td>\n",
              "      <td>162.6</td>\n",
              "      <td>164.1</td>\n",
              "      <td>152.2</td>\n",
              "      <td>171.8</td>\n",
              "    </tr>\n",
              "  </tbody>\n",
              "</table>\n",
              "</div>"
            ],
            "text/plain": [
              "學號       9394   898    2398   5906   2343   8225   5506   6451   2670   3497\n",
              "身高(cm)  147.6  185.9  154.0  147.2  168.6  146.8  162.6  164.1  152.2  171.8"
            ]
          },
          "metadata": {
            "tags": []
          },
          "execution_count": 22
        }
      ]
    },
    {
      "cell_type": "code",
      "metadata": {
        "colab": {
          "base_uri": "https://localhost:8080/",
          "height": 78
        },
        "id": "n1lPOMD7LWGj",
        "outputId": "f209094f-17e8-498f-8edc-1527168f6d1e"
      },
      "source": [
        "aDF.iloc[10:].T.round(1)"
      ],
      "execution_count": null,
      "outputs": [
        {
          "output_type": "execute_result",
          "data": {
            "text/html": [
              "<div>\n",
              "<style scoped>\n",
              "    .dataframe tbody tr th:only-of-type {\n",
              "        vertical-align: middle;\n",
              "    }\n",
              "\n",
              "    .dataframe tbody tr th {\n",
              "        vertical-align: top;\n",
              "    }\n",
              "\n",
              "    .dataframe thead th {\n",
              "        text-align: right;\n",
              "    }\n",
              "</style>\n",
              "<table border=\"1\" class=\"dataframe\">\n",
              "  <thead>\n",
              "    <tr style=\"text-align: right;\">\n",
              "      <th>學號</th>\n",
              "      <th>1087</th>\n",
              "      <th>1819</th>\n",
              "      <th>2308</th>\n",
              "      <th>6084</th>\n",
              "      <th>3724</th>\n",
              "      <th>3184</th>\n",
              "      <th>6387</th>\n",
              "      <th>3728</th>\n",
              "      <th>2702</th>\n",
              "      <th>7883</th>\n",
              "    </tr>\n",
              "  </thead>\n",
              "  <tbody>\n",
              "    <tr>\n",
              "      <th>身高(cm)</th>\n",
              "      <td>151.4</td>\n",
              "      <td>152.0</td>\n",
              "      <td>177.1</td>\n",
              "      <td>155.1</td>\n",
              "      <td>159.8</td>\n",
              "      <td>188.0</td>\n",
              "      <td>163.7</td>\n",
              "      <td>178.6</td>\n",
              "      <td>144.0</td>\n",
              "      <td>161.8</td>\n",
              "    </tr>\n",
              "  </tbody>\n",
              "</table>\n",
              "</div>"
            ],
            "text/plain": [
              "學號       1087   1819   2308   6084   3724   3184   6387   3728   2702   7883\n",
              "身高(cm)  151.4  152.0  177.1  155.1  159.8  188.0  163.7  178.6  144.0  161.8"
            ]
          },
          "metadata": {
            "tags": []
          },
          "execution_count": 23
        }
      ]
    },
    {
      "cell_type": "markdown",
      "metadata": {
        "id": "tU4Bnhvs3Yic"
      },
      "source": [
        "19.\t以20人資料重新估算μ的95%信心區間 $(μ_{201}, μ_{202})$=? \n",
        "\n",
        "20.\t以20人的資料估算出來的信心區間 $(μ_{201}, μ_{202})$ 比10人的資料所估算的信心區間 $(μ_1, μ_2)$ 何者寬度較小？(請寫出各自的信心區間寬度) \n"
      ]
    },
    {
      "cell_type": "code",
      "metadata": {
        "id": "Gb8S7znP2Dv4",
        "colab": {
          "base_uri": "https://localhost:8080/"
        },
        "outputId": "3c77e70f-783b-44aa-cf51-1efd9d5ee606"
      },
      "source": [
        "#(19)\n",
        "import statistics\n",
        "import math\n",
        "arr =[147.6,185.9,154.0,147.2,168.6,146.8,162.6,164.1,152.2,171.8,151.4,152.0,177.1,155.1,159.8,188.0,163.7,178.6,144.0,161.8]\n",
        "mean=statistics.mean(arr)\n",
        "n=20\n",
        "arr=statistics.stdev(arr)\n",
        "μ201=mean-1.96*(arr/math.sqrt(n))\n",
        "μ202=mean+1.96*(arr/math.sqrt(n))\n",
        "print(\"μ201=\",μ201,\",μ202=\",μ202)"
      ],
      "execution_count": null,
      "outputs": [
        {
          "output_type": "stream",
          "text": [
            "μ201= 155.83784914311926 ,μ202= 167.39215085688076\n"
          ],
          "name": "stdout"
        }
      ]
    },
    {
      "cell_type": "code",
      "metadata": {
        "id": "weKcxxMg2D0A",
        "colab": {
          "base_uri": "https://localhost:8080/"
        },
        "outputId": "805e2819-e378-4f67-99f5-e10eef1df745"
      },
      "source": [
        "#(20)\n",
        "μ1μ2=168.0715139391732 - 152.08848606082677\n",
        "μ201μ202=167.39215085688076 - 155.83784914311926\n",
        "a=μ1μ2\n",
        "b=μ201μ202\n",
        "if(a<b):\n",
        "  print(\"μ1μ2=\",μ1μ2)\n",
        "else:\n",
        "  print(\"μ201μ202=\",μ201μ202)"
      ],
      "execution_count": null,
      "outputs": [
        {
          "output_type": "stream",
          "text": [
            "μ201μ202= 11.554301713761504\n"
          ],
          "name": "stdout"
        }
      ]
    },
    {
      "cell_type": "code",
      "metadata": {
        "id": "Pm908o70yymn"
      },
      "source": [
        "# ----------------- 考題到此為止 ----------------------"
      ],
      "execution_count": null,
      "outputs": []
    }
  ]
}